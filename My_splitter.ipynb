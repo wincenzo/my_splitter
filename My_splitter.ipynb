{
 "cells": [
  {
   "cell_type": "code",
   "execution_count": 30,
   "metadata": {
    "colab": {},
    "colab_type": "code",
    "id": "aFqLFzVd5Iem"
   },
   "outputs": [],
   "source": [
    "def inputter(func):\n",
    "    \n",
    "    def reader(*args, **kwargs):\n",
    "        \n",
    "        testo = input('Inserisci testo o nome file: ')\n",
    "        \n",
    "        #tries to pass the file path, otherwise passes the input string\n",
    "        try:\n",
    "            with open(testo, 'r') as t:\n",
    "                testo = t.read()\n",
    "                \n",
    "            return func(testo, *args, **kwargs) \n",
    "        \n",
    "        except:\n",
    "            \n",
    "            return func(testo, *args, **kwargs)\n",
    "   \n",
    "    return reader"
   ]
  },
  {
   "cell_type": "code",
   "execution_count": 31,
   "metadata": {
    "colab": {},
    "colab_type": "code",
    "id": "8acvduOT5Nv5"
   },
   "outputs": [],
   "source": [
    "@inputter\n",
    "def Splitter(testo):\n",
    "\n",
    "    from string import whitespace as whs, punctuation as pct \n",
    "\n",
    "    L = [] \n",
    "    i = 0\n",
    "    word = ''\n",
    "    ex = whs + pct\n",
    "\n",
    "    while word != testo[i:]: \n",
    "        \n",
    "        word = ''\n",
    "        for c in testo[i:]:\n",
    "            \n",
    "            if c not in ex:\n",
    "                word += c\n",
    "            else:\n",
    "                i = testo.find(c,i) + 1\n",
    "                break \n",
    "                \n",
    "        if word: L.append(word)  \n",
    "            \n",
    "    return L\n"
   ]
  },
  {
   "cell_type": "code",
   "execution_count": 33,
   "metadata": {
    "colab": {
     "base_uri": "https://localhost:8080/",
     "height": 54
    },
    "colab_type": "code",
    "executionInfo": {
     "elapsed": 5278,
     "status": "ok",
     "timestamp": 1570298126489,
     "user": {
      "displayName": "Vincenzo T",
      "photoUrl": "",
      "userId": "05137668421568252915"
     },
     "user_tz": -120
    },
    "id": "Ll8lxpMz5oN7",
    "outputId": "130ecf7d-b9dd-4d97-cdb2-eda9c09971f5"
   },
   "outputs": [
    {
     "name": "stdin",
     "output_type": "stream",
     "text": [
      "Inserisci testo o nome file:  facciamo    una bella  prova !! !! \n"
     ]
    },
    {
     "data": {
      "text/plain": [
       "['facciamo', 'una', 'bella', 'prova']"
      ]
     },
     "execution_count": 33,
     "metadata": {},
     "output_type": "execute_result"
    }
   ],
   "source": [
    "Splitter()"
   ]
  },
  {
   "cell_type": "code",
   "execution_count": 30,
   "metadata": {
    "colab": {},
    "colab_type": "code",
    "id": "8q6eInMu5vUl"
   },
   "outputs": [],
   "source": [
    "@inputter\n",
    "def foo(testo):\n",
    "    print(testo)"
   ]
  },
  {
   "cell_type": "code",
   "execution_count": 31,
   "metadata": {},
   "outputs": [
    {
     "name": "stdin",
     "output_type": "stream",
     "text": [
      "Inserisci testo o nome file:  hahaha che bello\n"
     ]
    },
    {
     "name": "stdout",
     "output_type": "stream",
     "text": [
      "hahaha che bello\n"
     ]
    }
   ],
   "source": [
    "foo()"
   ]
  },
  {
   "cell_type": "code",
   "execution_count": null,
   "metadata": {},
   "outputs": [],
   "source": []
  }
 ],
 "metadata": {
  "accelerator": "GPU",
  "colab": {
   "collapsed_sections": [],
   "name": "My_splitter.ipynb",
   "provenance": []
  },
  "kernelspec": {
   "display_name": "Python 3",
   "language": "python",
   "name": "python3"
  },
  "language_info": {
   "codemirror_mode": {
    "name": "ipython",
    "version": 3
   },
   "file_extension": ".py",
   "mimetype": "text/x-python",
   "name": "python",
   "nbconvert_exporter": "python",
   "pygments_lexer": "ipython3",
   "version": "3.7.7"
  }
 },
 "nbformat": 4,
 "nbformat_minor": 4
}
